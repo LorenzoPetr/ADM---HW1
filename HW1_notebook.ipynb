{
 "cells": [
  {
   "cell_type": "markdown",
   "metadata": {},
   "source": [
    "# Homework 1: Hackerrank Python Exercises - Part 1"
   ]
  },
  {
   "cell_type": "markdown",
   "metadata": {},
   "source": [
    "## 1) Introduction"
   ]
  },
  {
   "cell_type": "markdown",
   "metadata": {},
   "source": [
    "### Say \"Hello, World!\" With Python"
   ]
  },
  {
   "cell_type": "code",
   "execution_count": 3,
   "metadata": {},
   "outputs": [
    {
     "name": "stdout",
     "output_type": "stream",
     "text": [
      "Hello, World!\n"
     ]
    }
   ],
   "source": [
    "mystring = \"Hello, World!\"\n",
    "print(mystring)"
   ]
  },
  {
   "cell_type": "markdown",
   "metadata": {},
   "source": [
    "### Python If-Else"
   ]
  },
  {
   "cell_type": "code",
   "execution_count": 5,
   "metadata": {},
   "outputs": [
    {
     "name": "stdout",
     "output_type": "stream",
     "text": [
      "2\n",
      "Not Weird\n"
     ]
    }
   ],
   "source": [
    "import math\n",
    "import os\n",
    "import random\n",
    "import re\n",
    "import sys\n",
    "\n",
    "stringA = \"Weird\"\n",
    "stringB = \"Not Weird\"\n",
    "\n",
    "\n",
    "if __name__ == '__main__':\n",
    "    n = int(input().strip())\n",
    "\n",
    "    if n % 2 != 0:\n",
    "        print(stringA)\n",
    "        \n",
    "    elif n % 2 == 0 and n >= 2 and n <= 5:\n",
    "        print(stringB)\n",
    "        \n",
    "    elif n % 2 == 0 and n >= 6 and n <= 20:\n",
    "        print(stringA)\n",
    "        \n",
    "    elif n % 2 == 0 and n >= 20:\n",
    "        print(stringB)"
   ]
  },
  {
   "cell_type": "markdown",
   "metadata": {},
   "source": [
    "### Arithmetic operators"
   ]
  },
  {
   "cell_type": "code",
   "execution_count": 6,
   "metadata": {},
   "outputs": [
    {
     "name": "stdout",
     "output_type": "stream",
     "text": [
      "2\n",
      "45\n",
      "47\n",
      "-43\n",
      "90\n"
     ]
    }
   ],
   "source": [
    "if __name__ == '__main__':\n",
    "    a = int(input())\n",
    "    b = int(input())\n",
    "\n",
    "    print(a+b)\n",
    "    print(a-b)\n",
    "    print(a*b)"
   ]
  },
  {
   "cell_type": "markdown",
   "metadata": {},
   "source": [
    "### Python: Division"
   ]
  },
  {
   "cell_type": "code",
   "execution_count": 7,
   "metadata": {},
   "outputs": [
    {
     "name": "stdout",
     "output_type": "stream",
     "text": [
      "2\n",
      "44\n",
      "0\n",
      "0.045454545454545456\n"
     ]
    }
   ],
   "source": [
    "if __name__ == '__main__':\n",
    "    \n",
    "    a = int(input())\n",
    "    b = int(input())\n",
    "\n",
    "    print( a//b )\n",
    "    print( a/b )\n"
   ]
  },
  {
   "cell_type": "markdown",
   "metadata": {},
   "source": [
    "### Loops"
   ]
  },
  {
   "cell_type": "code",
   "execution_count": null,
   "metadata": {},
   "outputs": [],
   "source": [
    "if __name__ == '__main__':\n",
    "    \n",
    "    n = int(input())\n",
    "\n",
    "    i = 0 \n",
    "\n",
    "    while i < n:\n",
    "        print( i * i )\n",
    "        i += 1"
   ]
  },
  {
   "cell_type": "markdown",
   "metadata": {},
   "source": [
    "### Write a function"
   ]
  },
  {
   "cell_type": "code",
   "execution_count": 1,
   "metadata": {},
   "outputs": [
    {
     "name": "stderr",
     "output_type": "stream",
     "text": [
      "<>:6: SyntaxWarning: \"is\" with a literal. Did you mean \"==\"?\n",
      "<>:9: SyntaxWarning: \"is\" with a literal. Did you mean \"==\"?\n",
      "<>:12: SyntaxWarning: \"is\" with a literal. Did you mean \"==\"?\n",
      "<>:6: SyntaxWarning: \"is\" with a literal. Did you mean \"==\"?\n",
      "<>:9: SyntaxWarning: \"is\" with a literal. Did you mean \"==\"?\n",
      "<>:12: SyntaxWarning: \"is\" with a literal. Did you mean \"==\"?\n",
      "<ipython-input-1-f83cf5008366>:6: SyntaxWarning: \"is\" with a literal. Did you mean \"==\"?\n",
      "  if year % 4 is 0:\n",
      "<ipython-input-1-f83cf5008366>:9: SyntaxWarning: \"is\" with a literal. Did you mean \"==\"?\n",
      "  if year % 100 is 0:\n",
      "<ipython-input-1-f83cf5008366>:12: SyntaxWarning: \"is\" with a literal. Did you mean \"==\"?\n",
      "  if year % 400 is 0:\n"
     ]
    }
   ],
   "source": [
    "def is_leap(year):\n",
    "    \n",
    "    leap = False\n",
    "    \n",
    "    # Write your logic here\n",
    "    if year % 4 is 0:\n",
    "        leap = True\n",
    "        \n",
    "        if year % 100 is 0:\n",
    "            leap = False\n",
    "            \n",
    "            if year % 400 is 0:\n",
    "                leap = True\n",
    "    \n",
    "    return leap"
   ]
  },
  {
   "cell_type": "markdown",
   "metadata": {},
   "source": [
    "### Print Function"
   ]
  },
  {
   "cell_type": "code",
   "execution_count": null,
   "metadata": {},
   "outputs": [],
   "source": [
    "if __name__ == '__main__':\n",
    "    \n",
    "    n = int(input())\n",
    "\n",
    "    i=1\n",
    "    for i in range(1,n+1):\n",
    "        print(i, end = \"\")\n",
    "        i += 1"
   ]
  },
  {
   "cell_type": "markdown",
   "metadata": {},
   "source": [
    "## 2) Basic Data Types"
   ]
  },
  {
   "cell_type": "markdown",
   "metadata": {},
   "source": [
    "### List Comprehension"
   ]
  },
  {
   "cell_type": "code",
   "execution_count": null,
   "metadata": {},
   "outputs": [],
   "source": [
    "if __name__ == '__main__':\n",
    "    \n",
    "    x = int(input())\n",
    "    y = int(input())\n",
    "    z = int(input())\n",
    "    n = int(input())\n",
    "\n",
    "    \n",
    " \n",
    "    print([[a,b,c] for a in range(0,x + 1) for b in range(0,y + 1) for c in range(0,z + 1) if a + b + c != n ])"
   ]
  },
  {
   "cell_type": "markdown",
   "metadata": {},
   "source": [
    "### Find the Runner-Up Score!"
   ]
  },
  {
   "cell_type": "code",
   "execution_count": null,
   "metadata": {},
   "outputs": [],
   "source": [
    "if __name__ == '__main__':\n",
    "    \n",
    "    N = int(input())\n",
    "    myarray = map(int, input().split())    \n",
    "\n",
    "    print (sorted(set(myarray)[-2])"
   ]
  },
  {
   "cell_type": "markdown",
   "metadata": {},
   "source": [
    "### Nested List"
   ]
  },
  {
   "cell_type": "code",
   "execution_count": null,
   "metadata": {},
   "outputs": [],
   "source": [
    "if __name__ == '__main__':\n",
    "\n",
    "\n",
    "        d = {}\n",
    "        \n",
    "        for _ in range(int(input())):\n",
    "            name = input() \n",
    "            grade = float(input()) \n",
    "            \n",
    "            d[name] = grade\n",
    "            val = d.values()\n",
    "\n",
    "        second = sorted(list(set(val)))[1] \n",
    "\n",
    "        second_lowest = [] \n",
    "\n",
    "        for key,value in d.items():  \n",
    "\n",
    "            if value == second: \n",
    "                second_lowest.append(key) \n",
    "\n",
    "                second_lowest.sort() \n",
    "\n",
    "        for nome in second_lowest: \n",
    "            print(nome) \n"
   ]
  },
  {
   "cell_type": "markdown",
   "metadata": {},
   "source": [
    "### Finding the Percentage"
   ]
  },
  {
   "cell_type": "code",
   "execution_count": null,
   "metadata": {},
   "outputs": [],
   "source": [
    "if __name__ == '__main__':\n",
    "    \n",
    "    N = int(input())\n",
    "    student_marks = {}\n",
    "    \n",
    "    \n",
    "    \n",
    "    for _ in range(N):\n",
    "        name, *line = input().split()\n",
    "        scores = list(map(float, line))\n",
    "        \n",
    "        studscrs[name] = scores\n",
    "        \n",
    "        \n",
    "    stud = input()\n",
    "    votes = studscrs[stud]\n",
    "    \n",
    "    \n",
    "    print(\"{0:.2f}\".format(sum(votes) / (len(votes))))"
   ]
  },
  {
   "cell_type": "markdown",
   "metadata": {},
   "source": [
    "### Lists"
   ]
  },
  {
   "cell_type": "code",
   "execution_count": null,
   "metadata": {},
   "outputs": [],
   "source": [
    "if __name__ == '__main__':\n",
    "    \n",
    "    N = int(input())\n",
    "\n",
    "    mylist = []\n",
    "\n",
    "    for _ in range(N):\n",
    "\n",
    "        el = input().split(\" \")\n",
    "\n",
    "        if el[0] == \"append\":\n",
    "            mylist.append(int(el[1]))\n",
    "\n",
    "        elif el[0] == \"insert\":\n",
    "            mylist.insert(int(el[1]), int(el[2]))\n",
    "\n",
    "        elif el[0] == \"remove\":\n",
    "            mylist.remove(int(el[1]))\n",
    "\n",
    "        elif el[0] == \"pop\":\n",
    "            mylist.pop()\n",
    "\n",
    "        elif el[0] == \"sort\":\n",
    "            mylist.sort()\n",
    "\n",
    "        elif el[0] == \"reverse\":\n",
    "            mylist.reverse()\n",
    "\n",
    "        elif el[0] == \"print\":\n",
    "            print(mylist)\n"
   ]
  },
  {
   "cell_type": "markdown",
   "metadata": {},
   "source": [
    "### Tuples"
   ]
  },
  {
   "cell_type": "code",
   "execution_count": null,
   "metadata": {},
   "outputs": [],
   "source": [
    "if __name__ == '__main__':\n",
    "    \n",
    "    N = int(input())\n",
    "    \n",
    "    print(hash(tuple(map(int, input().split()))))"
   ]
  },
  {
   "cell_type": "markdown",
   "metadata": {},
   "source": [
    "## 3) Strings"
   ]
  },
  {
   "cell_type": "markdown",
   "metadata": {},
   "source": [
    "### sWAP cASE"
   ]
  },
  {
   "cell_type": "code",
   "execution_count": null,
   "metadata": {},
   "outputs": [],
   "source": [
    "def swap_case(s):\n",
    "    return s.swapcase()"
   ]
  },
  {
   "cell_type": "markdown",
   "metadata": {},
   "source": [
    "### String Split and Join"
   ]
  },
  {
   "cell_type": "code",
   "execution_count": null,
   "metadata": {},
   "outputs": [],
   "source": [
    "def split_and_join(a):\n",
    " \n",
    "    a = a.split(\" \")\n",
    "    a = \"-\".join(a)\n",
    "    \n",
    "    return a\n"
   ]
  },
  {
   "cell_type": "markdown",
   "metadata": {},
   "source": [
    "### What's your name"
   ]
  },
  {
   "cell_type": "code",
   "execution_count": null,
   "metadata": {},
   "outputs": [],
   "source": [
    "def print_full_name(a, b):\n",
    "    \n",
    "    print(\"Hello %s %s! You just delved into python.\" % (a,b))"
   ]
  },
  {
   "cell_type": "markdown",
   "metadata": {},
   "source": [
    "### Mutations"
   ]
  },
  {
   "cell_type": "code",
   "execution_count": null,
   "metadata": {},
   "outputs": [],
   "source": [
    "def mutate_string(string, position, character):\n",
    "    \n",
    "    l = list(string)\n",
    "    l[position] = character\n",
    "    string = ''.join(l)\n",
    "    \n",
    "    return string"
   ]
  },
  {
   "cell_type": "markdown",
   "metadata": {},
   "source": [
    "### Find a String"
   ]
  },
  {
   "cell_type": "code",
   "execution_count": null,
   "metadata": {},
   "outputs": [],
   "source": [
    "def count_substring(string, sub_string):\n",
    "    \n",
    "    counter = 0\n",
    "    mysum = 0\n",
    "    \n",
    "    for _ in range(len(string)):\n",
    "        \n",
    "        if matcher(string[counter:(len(sub_string)+counter)], sub_string):\n",
    "            mysum = mysum + 1\n",
    "            \n",
    "        counter = counter + 1\n",
    "    return mysum\n",
    "\n",
    "def matcher(sliced_str, sub_string):\n",
    "    return sliced_str == sub_string"
   ]
  },
  {
   "cell_type": "markdown",
   "metadata": {},
   "source": [
    "### String Validators"
   ]
  },
  {
   "cell_type": "code",
   "execution_count": null,
   "metadata": {},
   "outputs": [],
   "source": [
    "if __name__ == '__main__':\n",
    "\n",
    "    string = input()\n",
    "\n",
    "    r1,r2,r3,r4,r5 = False,False,False,False,False\n",
    "\n",
    "    for letter in string:\n",
    "    \n",
    "        if letter.isalnum():\n",
    "            r1 = True\n",
    "    \n",
    "        if letter.isalpha():\n",
    "            r2 = True\n",
    "\n",
    "        if letter.isdigit():\n",
    "            r3 = True\n",
    "\n",
    "        if letter.islower():\n",
    "            r4 = True\n",
    "    \n",
    "        if letter.isupper():\n",
    "            r5 = True\n",
    "\n",
    "    print(r1)\n",
    "    print(r2)\n",
    "    print(r3)\n",
    "    print(r4)\n",
    "    print(r5)\n"
   ]
  },
  {
   "cell_type": "markdown",
   "metadata": {},
   "source": [
    "### Text allignment"
   ]
  },
  {
   "cell_type": "code",
   "execution_count": null,
   "metadata": {},
   "outputs": [],
   "source": []
  },
  {
   "cell_type": "markdown",
   "metadata": {},
   "source": [
    "### Text wrap"
   ]
  },
  {
   "cell_type": "code",
   "execution_count": null,
   "metadata": {},
   "outputs": [],
   "source": [
    "def wrap(string, max_width):\n",
    "    \n",
    "    l = list()\n",
    "    \n",
    "    for i in range(0,len(string),max_width): \n",
    "        l.append(string[i:i + max_width])\n",
    "        \n",
    "    return \"\\n\".join(l)"
   ]
  },
  {
   "cell_type": "markdown",
   "metadata": {},
   "source": [
    "### Designer Door Mat"
   ]
  },
  {
   "cell_type": "code",
   "execution_count": null,
   "metadata": {},
   "outputs": [],
   "source": []
  },
  {
   "cell_type": "markdown",
   "metadata": {},
   "source": [
    "### String Formatting"
   ]
  },
  {
   "cell_type": "code",
   "execution_count": null,
   "metadata": {},
   "outputs": [],
   "source": [
    "def print_formatted(N):\n",
    "\n",
    "    spacePad = len(str(bin(N)))\n",
    "\n",
    "    for i in range(1, N + 1): \n",
    "        floatVar = str(i) \n",
    "        octVar = str(oct(i)[2:]) \n",
    "        hexVar = str(hex(i)[2:]).upper() \n",
    "        binVar = str(bin(i)[2:]) \n",
    "        \n",
    "        formatFloat = ((\" \" * (spacePad - len(str(floatVar)) - 2)) + floatVar) \n",
    "        formatOct = ((\" \" * (spacePad - len(str(octVar)) - 2)) + octVar) \n",
    "        formatHex = ((\" \" * (spacePad - len(str(hexVar)) - 2)) + hexVar) \n",
    "        formatBin = ((\" \" * (spacePad - len(str(binVar)) - 2)) + binVar) \n",
    "        print(formatFloat + \" \" + formatOct + \" \" + formatHex + \" \" + formatBin)\n",
    "\n",
    "\n",
    "if __name__ == '__main__':\n",
    "    n = int(input())\n",
    "    print_formatted(n)"
   ]
  },
  {
   "cell_type": "markdown",
   "metadata": {},
   "source": [
    "### Aplphabet Rangoli"
   ]
  },
  {
   "cell_type": "code",
   "execution_count": null,
   "metadata": {},
   "outputs": [],
   "source": [
    "def print_rangoli(size):\n",
    "    \n",
    "    import string\n",
    "    alpha = string.ascii_lowercase\n",
    "\n",
    "\n",
    "    L = []\n",
    "    for i in range(size):\n",
    "        s = \"-\".join(alpha[i:size])\n",
    "        L.append((s[::-1]+s[1:]).center(4*size-3, \"-\"))\n",
    "    \n",
    "    \n",
    "    print('\\n'.join(L[:0:-1]+L))"
   ]
  },
  {
   "cell_type": "markdown",
   "metadata": {},
   "source": [
    "### Capitalize!"
   ]
  },
  {
   "cell_type": "code",
   "execution_count": null,
   "metadata": {},
   "outputs": [],
   "source": [
    "def solve(s):\n",
    "    words = s.split(\" \")\n",
    "    \n",
    "    capitalized_words = [w.capitalize() for w in words]\n",
    "    \n",
    "    return \" \".join(capitalized_words)"
   ]
  },
  {
   "cell_type": "markdown",
   "metadata": {},
   "source": [
    "### The Minion Game"
   ]
  },
  {
   "cell_type": "code",
   "execution_count": null,
   "metadata": {},
   "outputs": [],
   "source": [
    "def minion_game(s):\n",
    "\n",
    "    vowels = 'AEIOU'\n",
    "\n",
    "    kevsc = 0\n",
    "    stusc = 0\n",
    "    \n",
    "    for i in range(len(s)):\n",
    "        \n",
    "        if s[i] in vowels:\n",
    "            kevsc += (len(s) - i)\n",
    "        else:\n",
    "            stusc += (len(s) - i)\n",
    "\n",
    "    if kevsc > stusc:\n",
    "        print(\"Kevin\", kevsc)\n",
    "        \n",
    "    elif kevsc < stusc:\n",
    "        print(\"Stuart\", stusc)\n",
    "        \n",
    "    else:\n",
    "        print(\"Draw\")\n"
   ]
  },
  {
   "cell_type": "markdown",
   "metadata": {},
   "source": [
    "### Merge the tools"
   ]
  },
  {
   "cell_type": "code",
   "execution_count": null,
   "metadata": {},
   "outputs": [],
   "source": [
    "from collections import OrderedDict\n",
    "\n",
    "def merge_the_tools(string, k):\n",
    "    # your code goes here\n",
    "\n",
    "    nsubstr = len(string) // k\n",
    "    def_substr = []\n",
    "\n",
    "    for i in range(0, len(string), k):\n",
    "        substr = string[i : i + k]\n",
    "\n",
    "        substr = \"\".join(OrderedDict.fromkeys(substr))\n",
    "\n",
    "        print(substr)"
   ]
  },
  {
   "cell_type": "markdown",
   "metadata": {},
   "source": [
    "## 4) Sets"
   ]
  },
  {
   "cell_type": "markdown",
   "metadata": {},
   "source": [
    "### Introduction to Sets"
   ]
  },
  {
   "cell_type": "code",
   "execution_count": null,
   "metadata": {},
   "outputs": [],
   "source": [
    "def average(array):\n",
    "    # your code goes here\n",
    "    differentHeights = set(array)\n",
    "\n",
    "    return sum(differentHeights)/len(differentHeights)"
   ]
  },
  {
   "cell_type": "markdown",
   "metadata": {},
   "source": [
    "### No Idea!"
   ]
  },
  {
   "cell_type": "code",
   "execution_count": null,
   "metadata": {},
   "outputs": [],
   "source": [
    "a = input().split(' ')\n",
    "\n",
    "nums = ([int(i) for i in input().split(' ')])\n",
    "firstset = set([int(i) for i in input().split(' ')])\n",
    "secondset = set([int(i) for i in input().split(' ')])\n",
    "\n",
    "score = 0\n",
    "for i in nums:\n",
    "    if i in firstset:\n",
    "        score += 1\n",
    "    if i in secondset:\n",
    "        score -= 1\n",
    "print(score)"
   ]
  },
  {
   "cell_type": "markdown",
   "metadata": {},
   "source": [
    "### Symmetric Difference"
   ]
  },
  {
   "cell_type": "code",
   "execution_count": null,
   "metadata": {},
   "outputs": [],
   "source": [
    "# Enter your code here. Read input from STDIN. Print output to STDOUT\n",
    "M,m=input(),set(list(map(int,input().split())))\n",
    "N,n=input(),set(list(map(int,input().split())))\n",
    "\n",
    "s = sorted(n.symmetric_difference(m))\n",
    "\n",
    "for i in s:\n",
    "    print (i)"
   ]
  },
  {
   "cell_type": "markdown",
   "metadata": {},
   "source": [
    "### Set .add()"
   ]
  },
  {
   "cell_type": "code",
   "execution_count": null,
   "metadata": {},
   "outputs": [],
   "source": [
    "n = int(input())\n",
    "\n",
    "countrySet = set()\n",
    "\n",
    "for _ in range(n):\n",
    "    countrySet.add(input())\n",
    "\n",
    "print(len(countrySet))"
   ]
  },
  {
   "cell_type": "markdown",
   "metadata": {},
   "source": [
    "### Set .discard(), .remove() & .pop()"
   ]
  },
  {
   "cell_type": "code",
   "execution_count": null,
   "metadata": {},
   "outputs": [],
   "source": [
    "n = int(input())\n",
    "s = set(map(int, input().split()))\n",
    "\n",
    "N = int(input())\n",
    "\n",
    "for i in range(N):\n",
    "    choice = input().split()\n",
    "\n",
    "    if choice[0] == \"pop\":\n",
    "        s.pop()\n",
    "    elif choice[0] == \"remove\":\n",
    "        s.remove(int(choice[1]))\n",
    "    elif choice[0] == \"discard\":\n",
    "        s.discard(int(choice[1]))\n",
    "\n",
    "print(sum(s))\n"
   ]
  },
  {
   "cell_type": "markdown",
   "metadata": {},
   "source": [
    "### Set .union() Operation"
   ]
  },
  {
   "cell_type": "code",
   "execution_count": null,
   "metadata": {},
   "outputs": [],
   "source": [
    "n = input()\n",
    "N = set(map(int, input().split()))\n",
    "b = input()\n",
    "B = set(map(int, input().split()))\n",
    "\n",
    "print(len(N.union(B)))"
   ]
  },
  {
   "cell_type": "markdown",
   "metadata": {},
   "source": [
    "### Set .intersection() Operation"
   ]
  },
  {
   "cell_type": "code",
   "execution_count": null,
   "metadata": {},
   "outputs": [],
   "source": [
    "n = input()\n",
    "N = set(map(int, input().split()))\n",
    "\n",
    "b = input()\n",
    "B = set(map(int, input().split()))\n",
    "\n",
    "print(len(N.intersection(B)))"
   ]
  },
  {
   "cell_type": "markdown",
   "metadata": {},
   "source": [
    "### Set .difference() Operation"
   ]
  },
  {
   "cell_type": "code",
   "execution_count": null,
   "metadata": {},
   "outputs": [],
   "source": [
    "n = input()\n",
    "N = set(map(int, input().split()))\n",
    "\n",
    "b = input()\n",
    "B = set(map(int, input().split()))\n",
    "\n",
    "print(len(N.difference(B)))"
   ]
  },
  {
   "cell_type": "markdown",
   "metadata": {},
   "source": [
    "### Set .symmetric_difference() Operation"
   ]
  },
  {
   "cell_type": "code",
   "execution_count": null,
   "metadata": {},
   "outputs": [],
   "source": [
    "n = input()\n",
    "N = set(map(int, input().split()))\n",
    "\n",
    "b = input()\n",
    "B = set(map(int, input().split()))\n",
    "\n",
    "print(len(N.symmetric_difference(B)))"
   ]
  },
  {
   "cell_type": "markdown",
   "metadata": {},
   "source": [
    "### Set Mutations"
   ]
  },
  {
   "cell_type": "code",
   "execution_count": null,
   "metadata": {},
   "outputs": [],
   "source": [
    "a = int(input())\n",
    "A = set(map(int, input().split()))\n",
    "\n",
    "n = int(input())\n",
    "\n",
    "for i in range(n):\n",
    "    choice = input().split()\n",
    "    B = set(map(int, input().split()))\n",
    "\n",
    "    if choice[0] == \"intersection_update\":\n",
    "        A.intersection_update(B)\n",
    "    elif choice[0] == \"update\":\n",
    "        A.update(B)\n",
    "    elif choice[0] == \"symmetric_difference_update\":\n",
    "        A.symmetric_difference_update(B)\n",
    "    elif choice[0] == \"difference_update\":\n",
    "        A.difference_update(B)\n",
    "\n",
    "print(sum(A))"
   ]
  },
  {
   "cell_type": "markdown",
   "metadata": {},
   "source": [
    "### The Captain's Room"
   ]
  },
  {
   "cell_type": "code",
   "execution_count": null,
   "metadata": {},
   "outputs": [],
   "source": [
    "k = int(input())\n",
    "\n",
    "rooms = list(map(int, input().split()))\n",
    "\n",
    "roomset = set(rooms)\n",
    "\n",
    "cap_room = (k * sum(roomset) - sum(rooms)) // (k - 1)\n",
    "\n",
    "print(cap_room)"
   ]
  },
  {
   "cell_type": "markdown",
   "metadata": {},
   "source": [
    "### Check Subset"
   ]
  },
  {
   "cell_type": "code",
   "execution_count": null,
   "metadata": {},
   "outputs": [],
   "source": [
    "for _ in range(int(input())):\n",
    "    x, a, z, b = input(), set(input().split()), input(), set(input().split())\n",
    "    print(a.issubset(b))    "
   ]
  },
  {
   "cell_type": "markdown",
   "metadata": {},
   "source": [
    "### Check Strict Superset"
   ]
  },
  {
   "cell_type": "code",
   "execution_count": null,
   "metadata": {},
   "outputs": [],
   "source": [
    "a = set(input().split())\n",
    "print(all(a > set(input().split()) for _ in range(int(input()))))"
   ]
  },
  {
   "cell_type": "markdown",
   "metadata": {},
   "source": [
    "## 5) Collections"
   ]
  },
  {
   "cell_type": "markdown",
   "metadata": {},
   "source": [
    "### collections.Counter()"
   ]
  },
  {
   "cell_type": "code",
   "execution_count": null,
   "metadata": {},
   "outputs": [],
   "source": [
    "from collections import Counter\n",
    "\n",
    "X = int(input()) \n",
    "shoesizes = Counter(list(map(int, input().split())))\n",
    "N = int(input())\n",
    "\n",
    "tot = 0\n",
    "\n",
    "for i in range(N):\n",
    "    sizeprice = list(map(int, input().split()))\n",
    "\n",
    "    if shoesizes[sizeprice[0]]:\n",
    "        tot += sizeprice[1]\n",
    "        shoesizes[sizeprice[0]] -= 1\n",
    "\n",
    "print(tot)"
   ]
  },
  {
   "cell_type": "markdown",
   "metadata": {},
   "source": [
    "### DefaultDict tutorial"
   ]
  },
  {
   "cell_type": "code",
   "execution_count": null,
   "metadata": {},
   "outputs": [],
   "source": [
    "from collections import defaultdict\n",
    "\n",
    "d = defaultdict(list)\n",
    "mylist = []\n",
    "\n",
    "n, m = map(int,input().split())\n",
    "\n",
    "for i in range(1,n + 1):\n",
    "    d[input()].append(str(i))\n",
    "    \n",
    "for i in range(m):\n",
    "    print (' '.join(d[input()]) or -1)"
   ]
  },
  {
   "cell_type": "markdown",
   "metadata": {},
   "source": [
    "### Collections.namedtuple()"
   ]
  },
  {
   "cell_type": "code",
   "execution_count": null,
   "metadata": {},
   "outputs": [],
   "source": [
    "from collections import namedtuple\n",
    "\n",
    "n = int(input())\n",
    "dim = input().split()\n",
    "\n",
    "summarks = 0\n",
    "\n",
    "for i in range(n):\n",
    "    \n",
    "    studentuple = namedtuple('student',dim)\n",
    "    field1, field2, field3,field4 = input().split()\n",
    "    student = studentuple(field1,field2,field3,field4)\n",
    "    \n",
    "    summarks += int(student.MARKS)\n",
    "\n",
    "print(summarks/n)\n"
   ]
  },
  {
   "cell_type": "markdown",
   "metadata": {},
   "source": [
    "### Collections.OrderedDict()"
   ]
  },
  {
   "cell_type": "code",
   "execution_count": null,
   "metadata": {},
   "outputs": [],
   "source": [
    "from collections import OrderedDict\n",
    "\n",
    "n = int(input())\n",
    "\n",
    "mydict = OrderedDict()\n",
    "\n",
    "for _ in range(n):\n",
    "    \n",
    "    *food, price = input().split()\n",
    "    i = \" \".join(food)\n",
    "\n",
    "    if i not in mydict:\n",
    "        mydict[i] = int(price)\n",
    "        \n",
    "    else:\n",
    "        mydict[i] += int(price)\n",
    "\n",
    "for val in mydict:\n",
    "    print(val, mydict[val])"
   ]
  },
  {
   "cell_type": "markdown",
   "metadata": {},
   "source": [
    "### Word Order"
   ]
  },
  {
   "cell_type": "code",
   "execution_count": null,
   "metadata": {},
   "outputs": [],
   "source": [
    "from collections import Counter\n",
    "\n",
    "words = []\n",
    "\n",
    "for _ in range(int(input())):\n",
    "    words.append(input())\n",
    "    \n",
    "c = Counter(words)\n",
    "\n",
    "print(len(c))\n",
    "print(*c.values())"
   ]
  },
  {
   "cell_type": "markdown",
   "metadata": {},
   "source": [
    "### Collections.deque()"
   ]
  },
  {
   "cell_type": "code",
   "execution_count": null,
   "metadata": {},
   "outputs": [],
   "source": [
    "from collections import deque\n",
    "\n",
    "d = deque()\n",
    "n = int(input())\n",
    "\n",
    "for i in range(n):\n",
    "    \n",
    "    c = input().split()\n",
    "    \n",
    "    if c[0]==\"append\":\n",
    "        d.append(c[1])\n",
    "        \n",
    "    elif c[0]==\"appendleft\":\n",
    "        d.appendleft(c[1])\n",
    "        \n",
    "    elif c[0]==\"pop\":\n",
    "        d.pop()\n",
    "        \n",
    "    elif c[0]==\"popleft\":\n",
    "        d.popleft()\n",
    "\n",
    "print(*d)"
   ]
  },
  {
   "cell_type": "markdown",
   "metadata": {},
   "source": [
    "### Company Logo"
   ]
  },
  {
   "cell_type": "code",
   "execution_count": null,
   "metadata": {},
   "outputs": [],
   "source": [
    "import math\n",
    "import os\n",
    "import random\n",
    "import re\n",
    "import sys\n",
    "from collections import Counter, OrderedDict\n",
    "import string\n",
    "\n",
    "\n",
    "\n",
    "if __name__ == '__main__':\n",
    "\n",
    "    #count occurrencies of each letter\n",
    "\n",
    "    class OrderedCounter(Counter, OrderedDict):\n",
    "        pass\n",
    "    [ print(*c) for c in OrderedCounter(sorted(input())).most_common(3) ]\n"
   ]
  },
  {
   "cell_type": "markdown",
   "metadata": {},
   "source": [
    "### Piling Up!"
   ]
  },
  {
   "cell_type": "code",
   "execution_count": null,
   "metadata": {},
   "outputs": [],
   "source": [
    "from collections import deque\n",
    "\n",
    "testcases = int(input())\n",
    "\n",
    "for _ in range(testcases):\n",
    "    ncubes = int(input())\n",
    "    sidelenghts = deque(map(int, input().split()))\n",
    "\n",
    "    currcube = 0\n",
    "\n",
    "    for _ in range(len(sidelenghts)):\n",
    "        cubeL = sidelenghts[0]\n",
    "        cubeR = sidelenghts[-1]\n",
    "\n",
    "        if cubeL >= cubeR:\n",
    "            if((int(currcube) >= cubeL) or (int(currcube) == 0)):\n",
    "                currcube = cubeL\n",
    "                sidelenghts.popleft()\n",
    "        else:\n",
    "            if((int(currcube) >= cubeR) or (int(currcube) == 0)):\n",
    "                currcube = cubeR\n",
    "                sidelenghts.pop()\n",
    "\n",
    "    if len(sidelenghts) == 0:\n",
    "        print('Yes')\n",
    "    else:\n",
    "        print('No')"
   ]
  },
  {
   "cell_type": "markdown",
   "metadata": {},
   "source": [
    "## 6) Date and Time"
   ]
  },
  {
   "cell_type": "markdown",
   "metadata": {},
   "source": [
    "### Calendar Module"
   ]
  },
  {
   "cell_type": "code",
   "execution_count": null,
   "metadata": {},
   "outputs": [],
   "source": [
    "import calendar\n",
    "\n",
    "n1,n2,n3 = map(int,input().split())\n",
    "\n",
    "print((calendar.day_name[calendar.weekday(n3,n1,n2)]).upper())"
   ]
  },
  {
   "cell_type": "markdown",
   "metadata": {},
   "source": [
    "### Time Delta"
   ]
  },
  {
   "cell_type": "code",
   "execution_count": null,
   "metadata": {},
   "outputs": [],
   "source": [
    "#!/bin/python3\n",
    "\n",
    "\n",
    "from datetime import datetime as dt\n",
    "\n",
    "ncomp = int(input())\n",
    "\n",
    "ts = '%a %d %b %Y %H:%M:%S %z'\n",
    "\n",
    "for _ in range(ncomp):\n",
    "    print(int(abs((dt.strptime(input(), ts) - \n",
    "                   dt.strptime(input(), ts)).total_seconds())))"
   ]
  },
  {
   "cell_type": "markdown",
   "metadata": {},
   "source": [
    "## 7) Errors and exceptions"
   ]
  },
  {
   "cell_type": "markdown",
   "metadata": {},
   "source": [
    "### Exceptions"
   ]
  },
  {
   "cell_type": "code",
   "execution_count": null,
   "metadata": {},
   "outputs": [],
   "source": [
    "# Enter your code here. Read input from STDIN. Print output to STDOUT\n",
    "\n",
    "n = int(input())\n",
    "\n",
    "for i in range(n):\n",
    "    a,b = input().split()\n",
    "    try:\n",
    "        print(int(a) / int(b))\n",
    "    except ZeroDivisionError or ModuleNotFoundError as e:\n",
    "        print(\"Error Code:\",e)\n",
    "    except "
   ]
  },
  {
   "cell_type": "markdown",
   "metadata": {},
   "source": [
    "## 8) Built-ins"
   ]
  },
  {
   "cell_type": "markdown",
   "metadata": {},
   "source": [
    "### Input()"
   ]
  },
  {
   "cell_type": "code",
   "execution_count": null,
   "metadata": {},
   "outputs": [],
   "source": [
    "x, k = map(int, input().split())\n",
    "\n",
    "print( eval(input()) == k )"
   ]
  },
  {
   "cell_type": "markdown",
   "metadata": {},
   "source": [
    "### Python Evaluation"
   ]
  },
  {
   "cell_type": "code",
   "execution_count": null,
   "metadata": {},
   "outputs": [],
   "source": [
    "s = input()\n",
    "\n",
    "eval(s)"
   ]
  },
  {
   "cell_type": "markdown",
   "metadata": {},
   "source": [
    "### ginortS"
   ]
  },
  {
   "cell_type": "code",
   "execution_count": null,
   "metadata": {},
   "outputs": [],
   "source": [
    "def sort_String(s):\n",
    "    \n",
    "    lower_case = []\n",
    "    upper_case = []\n",
    "    odd_digits = []\n",
    "    even_digits = []\n",
    "    \n",
    "    for char in s:\n",
    "        if char.islower():\n",
    "            lower_case.append(char)\n",
    "        elif char.isupper():\n",
    "            upper_case.append(char)\n",
    "        elif char.isdigit():\n",
    "            if int(char)%2==0:\n",
    "                even_digits.append(char)\n",
    "            else:\n",
    "                odd_digits.append(char)\n",
    "                \n",
    "    return (''.join(sorted(lower_case)+sorted(upper_case)+sorted(odd_digits)+sorted(even_digits)))\n",
    "    \n",
    "if __name__=='__main__':\n",
    "    \n",
    "    S = input()\n",
    "    print (sort_String(S))"
   ]
  },
  {
   "cell_type": "markdown",
   "metadata": {},
   "source": [
    "## 9) Python Functionals"
   ]
  },
  {
   "cell_type": "markdown",
   "metadata": {},
   "source": [
    "### Validating email addresses with a filter"
   ]
  },
  {
   "cell_type": "code",
   "execution_count": null,
   "metadata": {},
   "outputs": [],
   "source": [
    "def fun(s):\n",
    "    # return True if s is a valid email, else return False\n",
    "    \n",
    "    if ('@' not in s) or ('.' not in s) or (' ' in s):\n",
    "        return False\n",
    "\n",
    "    if s.count('@') > 1:\n",
    "        return False\n",
    "\n",
    "    if s.count('.') > 1:\n",
    "        return False\n",
    "\n",
    "    s = s.replace('.',' ')\n",
    "\n",
    "    s = s.replace('@',' ')\n",
    "\n",
    "    email_fields = list(s.split())\n",
    "\n",
    "    if len(email_fields) < 3:\n",
    "        return False\n",
    "\n",
    "    for char in email_fields[0]:\n",
    "        if char.isalnum() == False and char != '_' and char != '-':\n",
    "            return False\n",
    "\n",
    "    for char in email_fields[1]:\n",
    "        if char.isalnum() == False:\n",
    "            return False\n",
    "\n",
    "    if len(email_fields[2]) > 3 or len(email_fields[2]) == 0:\n",
    "        return False\n",
    "\n",
    "    return True"
   ]
  },
  {
   "cell_type": "markdown",
   "metadata": {},
   "source": [
    "### Map and Lambda function"
   ]
  },
  {
   "cell_type": "code",
   "execution_count": null,
   "metadata": {},
   "outputs": [],
   "source": [
    "cube = lambda x: x*x*x\n",
    "\n",
    "def fibonacci(n):\n",
    "    # return a list of fibonacci numbers\n",
    "    \n",
    "        fiblist = []\n",
    "        fibterm1 = 0\n",
    "        fibterm2 = 1\n",
    "        for i in range(n):\n",
    "            \n",
    "            if i == 0:\n",
    "                fibsum = fibterm1\n",
    "            elif i == 1:\n",
    "                fibsum = fibterm2\n",
    "            else:\n",
    "                fibsum = fibterm1 + fibterm2\n",
    "                \n",
    "                fibterm1 = fibterm2\n",
    "                fibterm2 = fibsum\n",
    "\n",
    "            fiblist.append(fibsum)\n",
    "            \n",
    "        return fiblist"
   ]
  },
  {
   "cell_type": "markdown",
   "metadata": {},
   "source": [
    "## 10) XML"
   ]
  },
  {
   "cell_type": "markdown",
   "metadata": {},
   "source": [
    "### XML 1 - Find the score"
   ]
  },
  {
   "cell_type": "code",
   "execution_count": null,
   "metadata": {},
   "outputs": [],
   "source": [
    "def get_attr_number(node):\n",
    "    # your code goes here\n",
    "\n",
    "    if len(node) == 0:\n",
    "        return len(node.attrib)\n",
    "    \n",
    "    else:\n",
    "        return len(node.attrib) + sum([get_attr_number(idx) for idx in node] )\n"
   ]
  },
  {
   "cell_type": "markdown",
   "metadata": {},
   "source": [
    "### XML 2 - Find the maximum depht"
   ]
  },
  {
   "cell_type": "code",
   "execution_count": null,
   "metadata": {},
   "outputs": [],
   "source": [
    "import xml.etree.ElementTree as etree\n",
    "\n",
    "    maxdepth = 0\n",
    "\n",
    "    def depth(elem, level):\n",
    "        global maxdepth\n",
    "        level += 1\n",
    "        if (maxdepth < level):\n",
    "            maxdepth = level\n",
    "        for child in elem:\n",
    "            depth(child, level)\n",
    "            \n",
    "if __name__ == '__main__':\n",
    "    n = int(input())\n",
    "    xml = \"\"\n",
    "    for i in range(n):\n",
    "        xml =  xml + input() + \"\\n\"\n",
    "    tree = etree.ElementTree(etree.fromstring(xml))\n",
    "    depth(tree.getroot(), -1)\n",
    "    print(maxdepth)"
   ]
  },
  {
   "cell_type": "markdown",
   "metadata": {},
   "source": [
    "## 11) Closures and Decorators"
   ]
  },
  {
   "cell_type": "markdown",
   "metadata": {},
   "source": [
    "### Standardize Mobile Number Using Decorators"
   ]
  },
  {
   "cell_type": "code",
   "execution_count": 2,
   "metadata": {},
   "outputs": [],
   "source": [
    "def wrapper(f):\n",
    "    def fun(l):\n",
    "\n",
    "        f('+91 {} {}'.format(n[-10:-5], n[-5:]) for n in l)\n",
    "\n",
    "    return fun"
   ]
  },
  {
   "cell_type": "markdown",
   "metadata": {},
   "source": [
    "### Decorators 2 - Name Directory"
   ]
  },
  {
   "cell_type": "code",
   "execution_count": null,
   "metadata": {},
   "outputs": [],
   "source": [
    "def person_lister(f):\n",
    "    def inner(people):\n",
    "        # complete the function\n",
    "        return [f(n) for n in sorted(people, key = lambda x: int(x[2]))]\n",
    "\n",
    "    return inner"
   ]
  },
  {
   "cell_type": "markdown",
   "metadata": {},
   "source": [
    "## 12) Numpy"
   ]
  },
  {
   "cell_type": "markdown",
   "metadata": {},
   "source": [
    "### Arrays"
   ]
  },
  {
   "cell_type": "code",
   "execution_count": null,
   "metadata": {},
   "outputs": [],
   "source": [
    "import numpy\n",
    "\n",
    "def arrays(arr):\n",
    "    # complete this function\n",
    "    # use numpy.array\n",
    "    floatarr = numpy.array(arr, float)\n",
    "    rev = numpy.flip(floatarr)\n",
    "    return rev\n",
    "\n",
    "arr = input().strip().split(' ')\n",
    "result = arrays(arr)\n",
    "print(result)"
   ]
  },
  {
   "cell_type": "markdown",
   "metadata": {},
   "source": [
    "### Shape and reshape"
   ]
  },
  {
   "cell_type": "code",
   "execution_count": null,
   "metadata": {},
   "outputs": [],
   "source": [
    "import numpy\n",
    "\n",
    "myarray = numpy.array(input().split(), int)\n",
    "print(numpy.reshape(myarray,(3,3)))"
   ]
  },
  {
   "cell_type": "markdown",
   "metadata": {},
   "source": [
    "### Transpose and flatten"
   ]
  },
  {
   "cell_type": "code",
   "execution_count": null,
   "metadata": {},
   "outputs": [],
   "source": [
    "import numpy as np\n",
    "\n",
    "n, m = map(int, input().split())\n",
    "\n",
    "myarray = np.array([input().strip().split() for _ in range(n)], int)\n",
    "\n",
    "print(np.transpose(myarray))\n",
    "print(myarray.flatten())"
   ]
  },
  {
   "cell_type": "markdown",
   "metadata": {},
   "source": [
    "### Concatenate"
   ]
  },
  {
   "cell_type": "code",
   "execution_count": null,
   "metadata": {},
   "outputs": [],
   "source": [
    "import numpy as np\n",
    "\n",
    "n,m,p = map(int,input().split())\n",
    "\n",
    "arrayIn1 = np.array([input().split() for _ in range(n)], int)\n",
    "\n",
    "arrayIn2 = np.array([input().split() for _ in range(m)], int)\n",
    "\n",
    "print(np.concatenate((arrayIn1, arrayIn2), axis=0))"
   ]
  },
  {
   "cell_type": "markdown",
   "metadata": {},
   "source": [
    "### Zeros and ones"
   ]
  },
  {
   "cell_type": "code",
   "execution_count": null,
   "metadata": {},
   "outputs": [],
   "source": [
    "import numpy\n",
    "\n",
    "nums = list(map(int, input().split(' ')))\n",
    "\n",
    "print(numpy.zeros(nums, dtype = int))\n",
    "\n",
    "print(numpy.ones(nums, dtype = int))"
   ]
  },
  {
   "cell_type": "markdown",
   "metadata": {},
   "source": [
    "### Eye and identity"
   ]
  },
  {
   "cell_type": "code",
   "execution_count": null,
   "metadata": {},
   "outputs": [],
   "source": [
    "import numpy\n",
    "\n",
    "n,m = map(int, input().split())\n",
    "numpy.set_printoptions(sign=' ')\n",
    "\n",
    "print(numpy.eye(n,m, k=0))"
   ]
  },
  {
   "cell_type": "markdown",
   "metadata": {},
   "source": [
    "### Array mathematics"
   ]
  },
  {
   "cell_type": "code",
   "execution_count": null,
   "metadata": {},
   "outputs": [],
   "source": [
    "import numpy\n",
    "\n",
    "\n",
    "\n",
    "n,m = map(int, input().split())\n",
    "\n",
    "\n",
    "a,b = (numpy.array([input().split() for _ in range(n)], dtype=int) for _ in range(2))\n",
    "\n",
    "print(numpy.add(a,b))\n",
    "\n",
    "print(numpy.subtract(a,b))   \n",
    "\n",
    "print(numpy.multiply(a,b))\n",
    "\n",
    "print(a//b)        \n",
    "\n",
    "print(numpy.mod(a,b))          \n",
    "\n",
    "print(numpy.power(a,b))"
   ]
  },
  {
   "cell_type": "markdown",
   "metadata": {},
   "source": [
    "### Floor, ceil and rint"
   ]
  },
  {
   "cell_type": "code",
   "execution_count": null,
   "metadata": {},
   "outputs": [],
   "source": [
    "import numpy\n",
    "\n",
    "numpy.set_printoptions(sign=' ')\n",
    "\n",
    "my_array = numpy.array(input().split(), float)\n",
    "print(numpy.floor(my_array))\n",
    "print(numpy.ceil(my_array))\n",
    "print(numpy.rint(my_array))"
   ]
  },
  {
   "cell_type": "markdown",
   "metadata": {},
   "source": [
    "### Sum and prod"
   ]
  },
  {
   "cell_type": "code",
   "execution_count": null,
   "metadata": {},
   "outputs": [],
   "source": [
    "import numpy\n",
    "\n",
    "n,m = map(int, input().split())\n",
    "\n",
    "my_arr = numpy.array([input().split() for _ in range(n)],int)\n",
    "\n",
    "print(numpy.prod(numpy.sum(my_arr, axis=0), axis=0))"
   ]
  },
  {
   "cell_type": "markdown",
   "metadata": {},
   "source": [
    "### Min and Max"
   ]
  },
  {
   "cell_type": "code",
   "execution_count": null,
   "metadata": {},
   "outputs": [],
   "source": [
    "import numpy\n",
    "\n",
    "n,m = map(int, input().split())\n",
    "\n",
    "my_array = numpy.array([input().split() for _ in range(n)], int)\n",
    "\n",
    "print(numpy.max(numpy.min(my_array, axis = 1)))"
   ]
  },
  {
   "cell_type": "markdown",
   "metadata": {},
   "source": [
    "### Mean, Var and Std"
   ]
  },
  {
   "cell_type": "code",
   "execution_count": null,
   "metadata": {},
   "outputs": [],
   "source": [
    "import numpy\n",
    "\n",
    "n,m = map(int, input().split())\n",
    "\n",
    "my_array = numpy.array([input().split() for _ in range(n)], int)\n",
    "\n",
    "numpy.set_printoptions(legacy='1.13')\n",
    "\n",
    "print(numpy.mean(my_array, axis = 1))\n",
    "print(numpy.var(my_array, axis = 0))\n",
    "print(numpy.std(my_array))"
   ]
  },
  {
   "cell_type": "markdown",
   "metadata": {},
   "source": [
    "### Dot and cross"
   ]
  },
  {
   "cell_type": "code",
   "execution_count": null,
   "metadata": {},
   "outputs": [],
   "source": [
    "import numpy\n",
    "\n",
    "n = int(input())\n",
    "\n",
    "matrix_1 = numpy.array([list(map(int,input().split())) for _ in range(n)])\n",
    "\n",
    "matrix_2 = numpy.array([list(map(int,input().split())) for _ in range(n)])\n",
    "\n",
    "print(numpy.dot(matrix_1,matrix_2))"
   ]
  },
  {
   "cell_type": "markdown",
   "metadata": {},
   "source": [
    "### Inner and outer"
   ]
  },
  {
   "cell_type": "code",
   "execution_count": null,
   "metadata": {},
   "outputs": [],
   "source": [
    "import numpy\n",
    "\n",
    "A = numpy.array(input().split(), int)\n",
    "B = numpy.array(input().split(), int)\n",
    "\n",
    "print(numpy.inner(A, B)) \n",
    "\n",
    "print(numpy.outer(A, B))"
   ]
  },
  {
   "cell_type": "markdown",
   "metadata": {},
   "source": [
    "### Polynomials"
   ]
  },
  {
   "cell_type": "code",
   "execution_count": null,
   "metadata": {},
   "outputs": [],
   "source": [
    "import numpy\n",
    "\n",
    "coeff_list = list(map(float, input().split()))\n",
    "print(numpy.polyval(coeff_list, float(input())))"
   ]
  },
  {
   "cell_type": "markdown",
   "metadata": {},
   "source": [
    "### Linear Algebra"
   ]
  },
  {
   "cell_type": "code",
   "execution_count": 3,
   "metadata": {},
   "outputs": [
    {
     "name": "stdout",
     "output_type": "stream",
     "text": [
      "4\n",
      "3 22 4 5\n",
      "2 22 1 1\n",
      "11 1 11 1\n",
      "34 2 1 90\n",
      "-72683.0\n"
     ]
    }
   ],
   "source": [
    "import numpy\n",
    "\n",
    "n = int(input())\n",
    "\n",
    "my_array = numpy.array([input().split() for _ in range(n)],float)\n",
    "\n",
    "numpy.set_printoptions(legacy='1.13')\n",
    "\n",
    "print(numpy.linalg.det(my_array))"
   ]
  },
  {
   "cell_type": "markdown",
   "metadata": {},
   "source": [
    "## 13) Regex and parsing"
   ]
  },
  {
   "cell_type": "markdown",
   "metadata": {},
   "source": [
    "### re.findall() & re.finditer()"
   ]
  },
  {
   "cell_type": "code",
   "execution_count": null,
   "metadata": {},
   "outputs": [],
   "source": [
    "# Enter your code here. Read input from STDIN. Print output to STDOUT\n",
    "import re\n",
    "\n",
    "stringIn = input()\n",
    "vowels =  'aeiouAEIOU'\n",
    "cons = 'bcdfghjklmnpqrstvwxyzBCDFGHJKLMNPQRSTVWXYZ'\n",
    "\n",
    "match = re.findall('(?<=[' + cons + '])([' + vowels + ']{2,})[' + cons + ']', stringIn)\n",
    "if match:\n",
    "    print(*match, sep = '\\n')\n",
    "else:\n",
    "    print('-1')"
   ]
  },
  {
   "cell_type": "markdown",
   "metadata": {},
   "source": [
    "### re.start() & re.end()"
   ]
  },
  {
   "cell_type": "code",
   "execution_count": null,
   "metadata": {},
   "outputs": [],
   "source": [
    "# Enter your code here. Read input from STDIN. Print output to STDOUT\n",
    "import re\n",
    "\n",
    "mystr = input()\n",
    "substr = input()\n",
    "\n",
    "pattern = re.compile(substr)\n",
    "\n",
    "r = pattern.search(mystr)\n",
    "\n",
    "if r: \n",
    "    while r:\n",
    "        print(\"({0}, {1})\".format(r.start(), r.end() - 1))\n",
    "        r = pattern.search(mystr,r.start() + 1)\n",
    "\n",
    "else:\n",
    "    print(\"(-1, -1)\")"
   ]
  },
  {
   "cell_type": "markdown",
   "metadata": {},
   "source": [
    "### Regex substitution"
   ]
  },
  {
   "cell_type": "code",
   "execution_count": null,
   "metadata": {},
   "outputs": [],
   "source": [
    "# Enter your code here. Read input from STDIN. Print output to STDOUT\n",
    "import re\n",
    "\n",
    "N = int(input())\n",
    "\n",
    "text = input()\n",
    "\n",
    "\n",
    "print(re.sub(\"(<!--.*?-->)\", \"and\", text))\n",
    "print(re.sub(\"(<!--.*?-->)\", \"and\", text))"
   ]
  },
  {
   "cell_type": "markdown",
   "metadata": {},
   "source": [
    "### Validating Roman numerals"
   ]
  },
  {
   "cell_type": "code",
   "execution_count": null,
   "metadata": {},
   "outputs": [],
   "source": [
    "regex_pattern = r\"(?:(M){0,3})?(CM|CD|D?C{0,3})(XC|XL|L?X{0,3})(IX|IV|V?I{0,3})$\"\t# Do not delete 'r'.\n",
    "def checkIfRomanNumeral(numeral):\n",
    "    numeral = numeral.upper()\n",
    "    validRomanNumerals = [\"M\", \"D\", \"C\", \"L\", \"X\", \"V\", \"I\", \"(\", \")\"]\n",
    "    for letters in numeral:\n",
    "        if letters not in validRomanNumerals:\n",
    "            return True\n",
    "        elif letters in validRomanNumerals:\n",
    "            return False"
   ]
  },
  {
   "cell_type": "markdown",
   "metadata": {},
   "source": [
    "### Validating Phone Numbers"
   ]
  },
  {
   "cell_type": "code",
   "execution_count": null,
   "metadata": {},
   "outputs": [],
   "source": [
    "# Enter your code here. Read input from STDIN. Print output to STDOUT\n",
    "import re\n",
    "\n",
    "n = int(input())\n",
    "\n",
    "for _ in range(n):\n",
    "    cell = input()\n",
    "    isamobilenum = re.search(r\"[789]\\d{9}$\", cell)\n",
    "\n",
    "    if isamobilenum and len(cell) == 10:\n",
    "        print(\"YES\")\n",
    "    else:\n",
    "        print(\"NO\")"
   ]
  },
  {
   "cell_type": "markdown",
   "metadata": {},
   "source": [
    "### Validating and parsing email addresses"
   ]
  },
  {
   "cell_type": "code",
   "execution_count": null,
   "metadata": {},
   "outputs": [],
   "source": [
    "import email.utils\n",
    "import re\n",
    "\n",
    "nemails = int(input())\n",
    "\n",
    "\n",
    "for i in range(nemails):\n",
    "    namein, emailin = email.utils.parseaddr(input())\n",
    "\n",
    "    isvalid = re.match(r'^[a-zA-Z][\\w\\-.]*@[a-zA-Z]+\\.[a-zA-Z]{1,3}$', emailin)\n",
    "\n",
    "    if isvalid:\n",
    "        print(email.utils.formataddr((namein, emailin)))"
   ]
  },
  {
   "cell_type": "markdown",
   "metadata": {},
   "source": [
    "### Hex color code"
   ]
  },
  {
   "cell_type": "code",
   "execution_count": null,
   "metadata": {},
   "outputs": [],
   "source": [
    "import re\n",
    "\n",
    "nlines = int(input())\n",
    "\n",
    "#reg = re.compile(r\"(:|,| +)(#[abcdefABCDEF1234567890]{3}|#[abcdefABCDEF1234567890]{6})\\b\")\n",
    "\n",
    "for _ in range(nlines):\n",
    "    \n",
    "    iscolor = re.findall(r\"(:|,| ) *#([abcdefABCDEF1234567890]{3}|[abcdefABCDEF1234567890]{6})\\b\", input())\n",
    "    #line  = input()\n",
    "    #items = reg.findall(line)\n",
    "\n",
    "    if iscolor:\n",
    "        for color in iscolor:\n",
    "            print('#' + color[1])\n"
   ]
  },
  {
   "cell_type": "markdown",
   "metadata": {},
   "source": [
    "### HTML parser - pt. 1"
   ]
  },
  {
   "cell_type": "code",
   "execution_count": null,
   "metadata": {},
   "outputs": [],
   "source": [
    "from html.parser import HTMLParser\n",
    "\n",
    "N = int(input())\n",
    "\n",
    "from html.parser import HTMLParser\n",
    "class MyHTMLParser(HTMLParser):\n",
    "\n",
    "    def handle_starttag(self, tag, attrs):        \n",
    "        print ('Start :',tag)\n",
    "        for ele in attrs:\n",
    "            print ('->',ele[0],'>',ele[1])\n",
    "            \n",
    "    def handle_endtag(self, tag):\n",
    "        print ('End   :',tag)\n",
    "        \n",
    "    def handle_startendtag(self, tag, attrs):\n",
    "        print ('Empty :',tag)\n",
    "        for ele in attrs:\n",
    "            print ('->',ele[0],'>',ele[1])\n",
    "            \n",
    "MyParser = MyHTMLParser()\n",
    "\n",
    "for idx in range(N):\n",
    "\n",
    "    MyParser.feed(input())"
   ]
  },
  {
   "cell_type": "markdown",
   "metadata": {},
   "source": [
    "### HTML parser - pt. 2"
   ]
  },
  {
   "cell_type": "code",
   "execution_count": null,
   "metadata": {},
   "outputs": [],
   "source": [
    "from html.parser import HTMLParser\n",
    "\n",
    "class MyHTMLParser(HTMLParser):\n",
    "\n",
    "    def handle_comment(self, data):\n",
    "\n",
    "        if '\\n' in data:\n",
    "            print(\">>> Multi-line Comment\")\n",
    "\n",
    "        else:\n",
    "            print(\">>> Single-line Comment\")\n",
    "\n",
    "        print(data)\n",
    "        \n",
    "    def handle_data(self, data):\n",
    "        if data != '\\n':\n",
    "            print(\">>> Data\", data, sep='\\n')\n",
    "  \n",
    "\n",
    "html = \"\"       \n",
    "for i in range(int(input())):\n",
    "    html += input().rstrip()\n",
    "    html += '\\n'\n",
    "    \n",
    "parser = MyHTMLParser()\n",
    "parser.feed(html)\n",
    "parser.close()"
   ]
  },
  {
   "cell_type": "markdown",
   "metadata": {},
   "source": [
    "### Detect HTML Tags, Attributes & Attribute Values"
   ]
  },
  {
   "cell_type": "code",
   "execution_count": null,
   "metadata": {},
   "outputs": [],
   "source": [
    "from html.parser import HTMLParser\n",
    "\n",
    "N = int(input())\n",
    "\n",
    "class MyHTMLParser(HTMLParser):\n",
    "\n",
    " def handle_starttag(self, tag, attrs):\n",
    "\n",
    "  print(tag)\n",
    "\n",
    "  for attr in attrs:\n",
    "      print(\"->\", attr[0], \">\", attr[1])\n",
    "\n",
    "\n",
    "line = \"\"\n",
    "\n",
    "for i in range(N):\n",
    "    line += input()\n",
    "\n",
    "new = MyHTMLParser()\n",
    "new.feed(line)"
   ]
  },
  {
   "cell_type": "markdown",
   "metadata": {},
   "source": [
    "### Validating credit card numbers"
   ]
  },
  {
   "cell_type": "code",
   "execution_count": null,
   "metadata": {},
   "outputs": [],
   "source": [
    "import re\n",
    "\n",
    "cc = int(input())\n",
    "\n",
    "for i in range(cc):\n",
    "    credit_card = input()\n",
    "    \n",
    "    if re.match(r'^[456][0-9]{3}-?[0-9]{4}-?[0-9]{4}-?[0-9]{4}$',credit_card) and not re.search(r'([\\d])\\1\\1\\1', credit_card.replace(\"-\",'')):\n",
    "        print(\"Valid\")\n",
    "    else:\n",
    "        print(\"Invalid\")"
   ]
  },
  {
   "cell_type": "markdown",
   "metadata": {},
   "source": [
    "### Detect floating point number"
   ]
  },
  {
   "cell_type": "code",
   "execution_count": null,
   "metadata": {},
   "outputs": [],
   "source": [
    "import re\n",
    "\n",
    "n = int(input())\n",
    "\n",
    "for _ in range(n):\n",
    "    print(bool(re.match(r'^[-+]?[0-9]*\\.[0-9]+$', input())))"
   ]
  },
  {
   "cell_type": "markdown",
   "metadata": {},
   "source": [
    "### re.split()"
   ]
  },
  {
   "cell_type": "code",
   "execution_count": 4,
   "metadata": {},
   "outputs": [
    {
     "name": "stdout",
     "output_type": "stream",
     "text": [
      "111,333.555\n",
      "111\n",
      "333\n",
      "555\n"
     ]
    }
   ],
   "source": [
    "regex_pattern = r\"[,.]\"\t# Do not delete 'r'.\n",
    "\n",
    "\n",
    "import re\n",
    "print(\"\\n\".join(re.split(regex_pattern, input())))"
   ]
  },
  {
   "cell_type": "markdown",
   "metadata": {},
   "source": [
    "### Group(), Groups() & Groupdict()"
   ]
  },
  {
   "cell_type": "code",
   "execution_count": null,
   "metadata": {},
   "outputs": [],
   "source": [
    "import re\n",
    "\n",
    "m = re.search(r\"([a-z0-9])\\1+\", input())\n",
    "print(m.group(1) if m else -1)"
   ]
  },
  {
   "cell_type": "markdown",
   "metadata": {},
   "source": [
    "# Homework 1: Hackerrank Python Exercises - Part 2"
   ]
  },
  {
   "cell_type": "markdown",
   "metadata": {},
   "source": [
    "### Birthday cake candles"
   ]
  },
  {
   "cell_type": "code",
   "execution_count": null,
   "metadata": {},
   "outputs": [],
   "source": [
    "import math\n",
    "import os\n",
    "import random\n",
    "import re\n",
    "import sys\n",
    "\n",
    "#\n",
    "# Complete the 'birthdayCakeCandles' function below.\n",
    "#\n",
    "# The function is expected to return an INTEGER.\n",
    "# The function accepts INTEGER_ARRAY candles as parameter.\n",
    "#\n",
    "\n",
    "def birthdayCakeCandles(candles):\n",
    "    # Write your code here\n",
    "    maxheight = max(candles)\n",
    "\n",
    "    occur = 0\n",
    "\n",
    "    for element in candles:\n",
    "        if element == maxheight:\n",
    "            occur += 1\n",
    "    \n",
    "    return occur\n",
    "\n",
    "\n",
    "if __name__ == '__main__':\n",
    "    fptr = open(os.environ['OUTPUT_PATH'], 'w')\n",
    "\n",
    "    candles_count = int(input().strip())\n",
    "\n",
    "    candles = list(map(int, input().rstrip().split()))\n",
    "\n",
    "    result = birthdayCakeCandles(candles)\n",
    "\n",
    "    fptr.write(str(result) + '\\n')\n",
    "\n",
    "    fptr.close()"
   ]
  },
  {
   "cell_type": "markdown",
   "metadata": {},
   "source": [
    "### Kangaroo"
   ]
  },
  {
   "cell_type": "code",
   "execution_count": null,
   "metadata": {},
   "outputs": [],
   "source": [
    "import math\n",
    "import os\n",
    "import random\n",
    "import re\n",
    "import sys\n",
    "\n",
    "# Complete the kangaroo function below.\n",
    "def kangaroo(x1, v1, x2, v2):\n",
    "\n",
    "    if v1 > v2:\n",
    "        jumpsrest = (x1 - x2) % (v2 - v1)\n",
    "        if(jumpsrest == 0):\n",
    "            return \"YES\";\n",
    "        else:\n",
    "            return \"NO\";\n",
    "    else:\n",
    "        return \"NO\";    \n",
    "\n",
    "if __name__ == '__main__':\n",
    "    fptr = open(os.environ['OUTPUT_PATH'], 'w')\n",
    "\n",
    "    x1V1X2V2 = input().split()\n",
    "\n",
    "    x1 = int(x1V1X2V2[0])\n",
    "\n",
    "    v1 = int(x1V1X2V2[1])\n",
    "\n",
    "    x2 = int(x1V1X2V2[2])\n",
    "\n",
    "    v2 = int(x1V1X2V2[3])\n",
    "\n",
    "    result = kangaroo(x1, v1, x2, v2)\n",
    "\n",
    "    fptr.write(result + '\\n')\n",
    "\n",
    "    fptr.close()"
   ]
  },
  {
   "cell_type": "markdown",
   "metadata": {},
   "source": [
    "### Strange advertising"
   ]
  },
  {
   "cell_type": "code",
   "execution_count": null,
   "metadata": {},
   "outputs": [],
   "source": [
    "import math\n",
    "import os\n",
    "import random\n",
    "import re\n",
    "import sys\n",
    "\n",
    "# Complete the viralAdvertising function below.\n",
    "def viralAdvertising(n): #n = number of days\n",
    "\n",
    "    shared = 5\n",
    "    liked = 2\n",
    "    cumulative = 2\n",
    "\n",
    "    for _ in range(n-1):\n",
    "        \n",
    "        shared = liked * 3\n",
    "        liked = math.floor(shared/2)\n",
    "\n",
    "        cumulative += liked\n",
    "        \n",
    "    return cumulative\n",
    "\n",
    "\n",
    "if __name__ == '__main__':\n",
    "    fptr = open(os.environ['OUTPUT_PATH'], 'w')\n",
    "\n",
    "    n = int(input())\n",
    "\n",
    "    result = viralAdvertising(n)\n",
    "\n",
    "    fptr.write(str(result) + '\\n')\n",
    "\n",
    "    fptr.close()"
   ]
  },
  {
   "cell_type": "markdown",
   "metadata": {},
   "source": [
    "### Recursive digit sum"
   ]
  },
  {
   "cell_type": "code",
   "execution_count": null,
   "metadata": {},
   "outputs": [],
   "source": [
    "import math\n",
    "import os\n",
    "import random\n",
    "import re\n",
    "import sys\n",
    "\n",
    "# Complete the superDigit function below.\n",
    "def superDigit(n, k):\n",
    "\n",
    "    if int(n) < 10:\n",
    "        return n\n",
    "\n",
    "    elif int(n) >= 10 and k != 0:\n",
    "        sumofdigits = sum(int(digit) for digit in n)\n",
    "        result = superDigit(str(k * sumofdigits), 0)\n",
    "\n",
    "    elif int(n) >= 10 and k == 0:\n",
    "        sumofdigits = sum(int(digit) for digit in n)\n",
    "        result = superDigit(str(sumofdigits), 0)\n",
    "\n",
    "    return result\n",
    "\n",
    "if __name__ == '__main__':\n",
    "    fptr = open(os.environ['OUTPUT_PATH'], 'w')\n",
    "\n",
    "    nk = input().split()\n",
    "\n",
    "    n = nk[0]\n",
    "\n",
    "    k = int(nk[1])\n",
    "\n",
    "    result = superDigit(n, k)\n",
    "\n",
    "    fptr.write(str(result) + '\\n')\n",
    "\n",
    "    fptr.close()"
   ]
  },
  {
   "cell_type": "markdown",
   "metadata": {},
   "source": [
    "### Insertion sort 1"
   ]
  },
  {
   "cell_type": "code",
   "execution_count": null,
   "metadata": {},
   "outputs": [],
   "source": [
    "import math\n",
    "import os\n",
    "import random\n",
    "import re\n",
    "import sys\n",
    "\n",
    "# Complete the insertionSort1 function below.\n",
    "def insertionSort1(n, arr): #n = size of \"arr\"\n",
    "    lastelem = arr[n - 1]\n",
    "    i = n - 1\n",
    "\n",
    "    while(lastelem < arr[i - 1] and i > 0):\n",
    "        arr[i] = arr[i - 1]\n",
    "        print(*arr)\n",
    "        i -= 1\n",
    "\n",
    "    arr[i] = lastelem\n",
    "    print(*arr)\n",
    "\n",
    "\n",
    "#        formattedarr = str(arr)\n",
    "#        result1 = formattedarr.replace('[','')\n",
    "#        result2 = result1.replace(']','')\n",
    "#        result3 = result2.replace(',','')\n",
    "\n",
    "#        print(result3)\n",
    "\n",
    "if __name__ == '__main__':\n",
    "    n = int(input())\n",
    "\n",
    "    arr = list(map(int, input().rstrip().split()))\n",
    "\n",
    "    insertionSort1(n, arr)"
   ]
  },
  {
   "cell_type": "markdown",
   "metadata": {},
   "source": [
    "### Insertion sort 2"
   ]
  },
  {
   "cell_type": "code",
   "execution_count": null,
   "metadata": {},
   "outputs": [],
   "source": [
    "import math\n",
    "import os\n",
    "import random\n",
    "import re\n",
    "import sys\n",
    "\n",
    "# Complete the insertionSort2 function below.\n",
    "def insertionSort2(n, arr):\n",
    "\n",
    "    for i in range(n):\n",
    "\n",
    "        if(i == 0):\n",
    "            continue\n",
    "\n",
    "        for j in range(i):\n",
    "\n",
    "            if(arr[j] > arr[i]):\n",
    "                tmp = arr[i]\n",
    "                arr[i] = arr[j]\n",
    "                arr[j] = tmp\n",
    "            else:\n",
    "                continue\n",
    "\n",
    "        print(' '.join(str(elem) for elem in arr))\n",
    "\n",
    "if __name__ == '__main__':\n",
    "    n = int(input())\n",
    "\n",
    "    arr = list(map(int, input().rstrip().split()))\n",
    "\n",
    "    insertionSort2(n, arr)"
   ]
  }
 ],
 "metadata": {
  "kernelspec": {
   "display_name": "Python 3",
   "language": "python",
   "name": "python3"
  },
  "language_info": {
   "codemirror_mode": {
    "name": "ipython",
    "version": 3
   },
   "file_extension": ".py",
   "mimetype": "text/x-python",
   "name": "python",
   "nbconvert_exporter": "python",
   "pygments_lexer": "ipython3",
   "version": "3.8.3"
  }
 },
 "nbformat": 4,
 "nbformat_minor": 4
}
